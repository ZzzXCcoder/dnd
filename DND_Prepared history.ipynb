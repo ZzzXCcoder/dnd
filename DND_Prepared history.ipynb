{
 "cells": [
  {
   "cell_type": "code",
   "execution_count": 1,
   "metadata": {},
   "outputs": [],
   "source": [
    "import os;\n",
    "from openai import OpenAI;\n",
    "import openai;"
   ]
  },
  {
   "cell_type": "code",
   "execution_count": 2,
   "metadata": {},
   "outputs": [
    {
     "name": "stdout",
     "output_type": "stream",
     "text": [
      "\n",
      " Меня зовут Арригал.\n",
      "\n",
      " Меня зовут Арригал, я Варвар.\n",
      "\n",
      " Меня зовут Арригал, я Варвар-Кошка-женщина\n",
      "\n",
      " Меня зовут Арригал, я Варвар-Кошка-женщина. Я родом из деревени Кишки-на-ружу-ниндзя, мой отец Никита Малютин тяжело был поражен проклятьем СИШАРПА могучего демона. Мое единственное желание стать сильнее и отыскать эту нечисть, чтобы снять проклятье с моего отца!\n"
     ]
    }
   ],
   "source": [
    "user_name = input('\\n Как зовут вашего героя?')\n",
    "print(f'\\n Меня зовут {user_name}.')\n",
    "user_game_class = input(f'\\n Какой класс у {user_name}?')\n",
    "print(f'\\n Меня зовут {user_name}, я {user_game_class}.')\n",
    "user_races = input(f'\\n Какая раса у {user_name}?')\n",
    "print(f'\\n Меня зовут {user_name}, я {user_game_class}-{user_races}')\n",
    "user_history = input(f'\\n Какая предистория у {user_name}? Чего бы он хотел добиться, какие у него слабые и сильные стороны?')\n",
    "print(f'\\n Меня зовут {user_name}, я {user_game_class}-{user_races}. {user_history}')"
   ]
  },
  {
   "cell_type": "code",
   "execution_count": 3,
   "metadata": {},
   "outputs": [],
   "source": [
    "client = OpenAI(\n",
    "    api_key=os.environ.get(\"OPENAI_API_KEY\"),\n",
    ")"
   ]
  },
  {
   "cell_type": "code",
   "execution_count": 4,
   "metadata": {},
   "outputs": [
    {
     "name": "stdout",
     "output_type": "stream",
     "text": [
      "ChatCompletion(id='chatcmpl-9IWx61tdhaNrgoZi4D3XrxRPFWCZ1', choices=[Choice(finish_reason='stop', index=0, logprobs=None, message=ChatCompletionMessage(content='Великолепно, мой дорогой Арригал! Ты стоишь перед своим первым испытанием в поисках демона СИШАРПА. Ты стоишь у ворот древнего храма, где, по легендам, скрывается его заклятый убежище. Перед тобой два пути: один ведет к мраку и опасности, другой — к испытаниям и мудрости. Так, что выберешь ты, могучий варвар-кошка-женщина?', role='assistant', function_call=None, tool_calls=None))], created=1714203600, model='gpt-3.5-turbo-0125', object='chat.completion', system_fingerprint='fp_3b956da36b', usage=CompletionUsage(completion_tokens=172, prompt_tokens=252, total_tokens=424))\n"
     ]
    }
   ],
   "source": [
    "chat_completion_0 = client.chat.completions.create(\n",
    "    messages = [\n",
    "        {\n",
    "            \"role\": \"system\", \n",
    "            \"content\" : \"Ты мой Гейм Мастер в настольной ролевой игре под названием DnD. Ты должен предлагать мне варианты возможных действий в разных игровых ситуациях. При этом веди повествование как старый рассказчик из книг.\",\n",
    "        },\n",
    "        {\n",
    "            \"role\": \"user\",\n",
    "            \"content\": f'Меня зовут {user_name}, я {user_game_class}-{user_races}. Вот моя предистория: {user_history}',\n",
    "        }\n",
    "    ],\n",
    "    model=\"gpt-3.5-turbo\",\n",
    "\n",
    ")\n",
    "print(chat_completion_0)\n",
    "chat_response_0 = chat_completion_0.choices[0].message.content"
   ]
  },
  {
   "cell_type": "code",
   "execution_count": 5,
   "metadata": {},
   "outputs": [
    {
     "name": "stdout",
     "output_type": "stream",
     "text": [
      "Великолепно, мой дорогой Арригал! Ты стоишь перед своим первым испытанием в поисках демона СИШАРПА. Ты стоишь у ворот древнего храма, где, по легендам, скрывается его заклятый убежище. Перед тобой два пути: один ведет к мраку и опасности, другой — к испытаниям и мудрости. Так, что выберешь ты, могучий варвар-кошка-женщина?\n"
     ]
    }
   ],
   "source": [
    "print(chat_response_0)"
   ]
  },
  {
   "cell_type": "code",
   "execution_count": 6,
   "metadata": {},
   "outputs": [
    {
     "name": "stdout",
     "output_type": "stream",
     "text": [
      "Арригал: Мрак и опастность\n",
      "\n",
      " Dungeon Master: С твоим решением принять вызов мрака и опасности, ты входишь во тьму храма, чувствуя, как холодный ветер проникает сквозь твою броню. По коридорам ты слышишь шепот и шорохи, которые кажутся ближе, чем они на самом деле есть.\n",
      "\n",
      "Ты настороженно продвигаешься вперед, стараясь разглядеть что-то в темноте. Сделай бросок кубика, чтобы узнать, что тебя ждет дальше.\n",
      "\n",
      "*(Кидок кубика 1d20)*\n",
      "Арригал: бросаю кубик 1d20\n",
      "\n",
      " Dungeon Master: Кидок кубика 1d20 показывает... *(бросок кубика)* 13! Ты слышишь тихий шелест за углом и решаешь проверить, что там скрывается.\n",
      "\n",
      "Следуя звукам, ты внезапно оказываешься перед огромным паутинным узором, растянутым между старыми колоннами. У тебя два выбора: попытаться пройти через паутину или обойти ее стороной. Твое решение определит, какую угрозу ты встретишь на своем пути.\n",
      "Арригал: \n",
      "\n",
      " Dungeon Master: Ты решаешь пройти через паутину, надеясь, что твоя проворность и ловкость помогут тебе избежать запутывания. Итак, кидаю кубик 1d20... *(бросок кубика)* 8. \n",
      "\n",
      "Ты застреваешь в густой паутине, теряя драгоценное время, и внезапно из теней выходит паучий великан, готовый атаковать тебя! С боевым кличем и мечом в руке, ты готовишься к схватке. Сила демона СИШАРПА ощущается все ближе...\n"
     ]
    },
    {
     "ename": "KeyboardInterrupt",
     "evalue": "Interrupted by user",
     "output_type": "error",
     "traceback": [
      "\u001b[1;31m---------------------------------------------------------------------------\u001b[0m",
      "\u001b[1;31mKeyboardInterrupt\u001b[0m                         Traceback (most recent call last)",
      "Cell \u001b[1;32mIn[6], line 3\u001b[0m\n\u001b[0;32m      1\u001b[0m chat_response_1 \u001b[38;5;241m=\u001b[39m \u001b[38;5;124m\"\u001b[39m\u001b[38;5;124m\"\u001b[39m\n\u001b[0;32m      2\u001b[0m \u001b[38;5;28;01mwhile\u001b[39;00m \u001b[38;5;28;01mTrue\u001b[39;00m:\n\u001b[1;32m----> 3\u001b[0m     user_massage \u001b[38;5;241m=\u001b[39m (\u001b[38;5;28;43minput\u001b[39;49m\u001b[43m(\u001b[49m\u001b[38;5;124;43mf\u001b[39;49m\u001b[38;5;124;43m'\u001b[39;49m\u001b[38;5;130;43;01m\\n\u001b[39;49;00m\u001b[38;5;132;43;01m{\u001b[39;49;00m\u001b[43muser_name\u001b[49m\u001b[38;5;132;43;01m}\u001b[39;49;00m\u001b[38;5;124;43m:\u001b[39;49m\u001b[38;5;124;43m'\u001b[39;49m\u001b[43m)\u001b[49m)\n\u001b[0;32m      4\u001b[0m     \u001b[38;5;28mprint\u001b[39m(\u001b[38;5;124mf\u001b[39m\u001b[38;5;124m'\u001b[39m\u001b[38;5;132;01m{\u001b[39;00muser_name\u001b[38;5;132;01m}\u001b[39;00m\u001b[38;5;124m: \u001b[39m\u001b[38;5;132;01m{\u001b[39;00muser_massage\u001b[38;5;132;01m}\u001b[39;00m\u001b[38;5;124m'\u001b[39m)\n\u001b[0;32m      5\u001b[0m     chat_completion_1 \u001b[38;5;241m=\u001b[39m client\u001b[38;5;241m.\u001b[39mchat\u001b[38;5;241m.\u001b[39mcompletions\u001b[38;5;241m.\u001b[39mcreate(\n\u001b[0;32m      6\u001b[0m     messages \u001b[38;5;241m=\u001b[39m [\n\u001b[0;32m      7\u001b[0m         {\n\u001b[1;32m   (...)\u001b[0m\n\u001b[0;32m     25\u001b[0m \n\u001b[0;32m     26\u001b[0m )\n",
      "File \u001b[1;32m~\\AppData\\Roaming\\Python\\Python311\\site-packages\\ipykernel\\kernelbase.py:1282\u001b[0m, in \u001b[0;36mKernel.raw_input\u001b[1;34m(self, prompt)\u001b[0m\n\u001b[0;32m   1280\u001b[0m     msg \u001b[38;5;241m=\u001b[39m \u001b[38;5;124m\"\u001b[39m\u001b[38;5;124mraw_input was called, but this frontend does not support input requests.\u001b[39m\u001b[38;5;124m\"\u001b[39m\n\u001b[0;32m   1281\u001b[0m     \u001b[38;5;28;01mraise\u001b[39;00m StdinNotImplementedError(msg)\n\u001b[1;32m-> 1282\u001b[0m \u001b[38;5;28;01mreturn\u001b[39;00m \u001b[38;5;28;43mself\u001b[39;49m\u001b[38;5;241;43m.\u001b[39;49m\u001b[43m_input_request\u001b[49m\u001b[43m(\u001b[49m\n\u001b[0;32m   1283\u001b[0m \u001b[43m    \u001b[49m\u001b[38;5;28;43mstr\u001b[39;49m\u001b[43m(\u001b[49m\u001b[43mprompt\u001b[49m\u001b[43m)\u001b[49m\u001b[43m,\u001b[49m\n\u001b[0;32m   1284\u001b[0m \u001b[43m    \u001b[49m\u001b[38;5;28;43mself\u001b[39;49m\u001b[38;5;241;43m.\u001b[39;49m\u001b[43m_parent_ident\u001b[49m\u001b[43m[\u001b[49m\u001b[38;5;124;43m\"\u001b[39;49m\u001b[38;5;124;43mshell\u001b[39;49m\u001b[38;5;124;43m\"\u001b[39;49m\u001b[43m]\u001b[49m\u001b[43m,\u001b[49m\n\u001b[0;32m   1285\u001b[0m \u001b[43m    \u001b[49m\u001b[38;5;28;43mself\u001b[39;49m\u001b[38;5;241;43m.\u001b[39;49m\u001b[43mget_parent\u001b[49m\u001b[43m(\u001b[49m\u001b[38;5;124;43m\"\u001b[39;49m\u001b[38;5;124;43mshell\u001b[39;49m\u001b[38;5;124;43m\"\u001b[39;49m\u001b[43m)\u001b[49m\u001b[43m,\u001b[49m\n\u001b[0;32m   1286\u001b[0m \u001b[43m    \u001b[49m\u001b[43mpassword\u001b[49m\u001b[38;5;241;43m=\u001b[39;49m\u001b[38;5;28;43;01mFalse\u001b[39;49;00m\u001b[43m,\u001b[49m\n\u001b[0;32m   1287\u001b[0m \u001b[43m\u001b[49m\u001b[43m)\u001b[49m\n",
      "File \u001b[1;32m~\\AppData\\Roaming\\Python\\Python311\\site-packages\\ipykernel\\kernelbase.py:1325\u001b[0m, in \u001b[0;36mKernel._input_request\u001b[1;34m(self, prompt, ident, parent, password)\u001b[0m\n\u001b[0;32m   1322\u001b[0m \u001b[38;5;28;01mexcept\u001b[39;00m \u001b[38;5;167;01mKeyboardInterrupt\u001b[39;00m:\n\u001b[0;32m   1323\u001b[0m     \u001b[38;5;66;03m# re-raise KeyboardInterrupt, to truncate traceback\u001b[39;00m\n\u001b[0;32m   1324\u001b[0m     msg \u001b[38;5;241m=\u001b[39m \u001b[38;5;124m\"\u001b[39m\u001b[38;5;124mInterrupted by user\u001b[39m\u001b[38;5;124m\"\u001b[39m\n\u001b[1;32m-> 1325\u001b[0m     \u001b[38;5;28;01mraise\u001b[39;00m \u001b[38;5;167;01mKeyboardInterrupt\u001b[39;00m(msg) \u001b[38;5;28;01mfrom\u001b[39;00m \u001b[38;5;28;01mNone\u001b[39;00m\n\u001b[0;32m   1326\u001b[0m \u001b[38;5;28;01mexcept\u001b[39;00m \u001b[38;5;167;01mException\u001b[39;00m:\n\u001b[0;32m   1327\u001b[0m     \u001b[38;5;28mself\u001b[39m\u001b[38;5;241m.\u001b[39mlog\u001b[38;5;241m.\u001b[39mwarning(\u001b[38;5;124m\"\u001b[39m\u001b[38;5;124mInvalid Message:\u001b[39m\u001b[38;5;124m\"\u001b[39m, exc_info\u001b[38;5;241m=\u001b[39m\u001b[38;5;28;01mTrue\u001b[39;00m)\n",
      "\u001b[1;31mKeyboardInterrupt\u001b[0m: Interrupted by user"
     ]
    }
   ],
   "source": [
    "chat_response_1 = \"\"\n",
    "while True:\n",
    "    user_massage = (input(f'\\n{user_name}:'))\n",
    "    print(f'\\n{user_name}: {user_massage}')\n",
    "    chat_completion_1 = client.chat.completions.create(\n",
    "    messages = [\n",
    "        {\n",
    "            \"role\": \"system\", \n",
    "            \"content\" : \"Ты мой Гейм Мастер в настольной ролевой игре под названием DnD. Используй систему DnD для проверок характеристик и навыков игрока где он будет бросать кубик 1к20, если выпало число меньше 10 происходит что-то плохое, если больше 10 то что-то хорошее. При этом каждое значение броска кубика ты должен прописывать. При этом веди повествование как старый рассказчик из книг.\",\n",
    "        }, \n",
    "         {\n",
    "            \"role\": \"assistant\", \n",
    "            \"content\" : chat_response_0,\n",
    "        },\n",
    "        {\n",
    "            \"role\": \"assistant\", \n",
    "            \"content\" : chat_response_1,\n",
    "        },\n",
    "        {\n",
    "            \"role\": \"user\",\n",
    "            \"content\": user_massage,\n",
    "        }\n",
    "    ],\n",
    "    model=\"gpt-3.5-turbo\",\n",
    "\n",
    ")\n",
    "    chat_response_1 = chat_completion_1.choices[0].message.content\n",
    "    print(f'\\n Dungeon Master: {chat_response_1}')"
   ]
  }
 ],
 "metadata": {
  "kernelspec": {
   "display_name": "Python 3",
   "language": "python",
   "name": "python3"
  },
  "language_info": {
   "codemirror_mode": {
    "name": "ipython",
    "version": 3
   },
   "file_extension": ".py",
   "mimetype": "text/x-python",
   "name": "python",
   "nbconvert_exporter": "python",
   "pygments_lexer": "ipython3",
   "version": "3.11.1"
  }
 },
 "nbformat": 4,
 "nbformat_minor": 2
}
