{
 "cells": [
  {
   "cell_type": "code",
   "execution_count": null,
   "metadata": {},
   "outputs": [],
   "source": [
    "import os;\n",
    "import openai;\n",
    "from openai import OpenAI;\n"
   ]
  },
  {
   "cell_type": "code",
   "execution_count": null,
   "metadata": {},
   "outputs": [],
   "source": [
    "client = OpenAI(\n",
    "    api_key=os.environ.get(\"OPENAI_API_KEY\"),\n",
    ")"
   ]
  },
  {
   "cell_type": "code",
   "execution_count": null,
   "metadata": {},
   "outputs": [],
   "source": [
    "def user_create_history ():\n",
    "    user_name = input('\\n Как зовут вашего героя?')\n",
    "    print(f'\\n Меня зовут {user_name}.')\n",
    "    user_game_class = input(f'\\n Какой класс у {user_name}?')\n",
    "    print(f'\\n Меня зовут {user_name}, я {user_game_class}.')\n",
    "    user_races = input(f'\\n Какая раса у {user_name}?')\n",
    "    print(f'\\n Меня зовут {user_name}, я {user_game_class}-{user_races}')\n",
    "    user_history = input(f'\\n Какая предистория у {user_name}? Чего бы он хотел добиться, какие у него слабые и сильные стороны?')\n",
    "    print(f'\\n Меня зовут {user_name}, я {user_game_class}-{user_races}. {user_history}')\n",
    "    return(user_name, user_game_class, user_races, user_history)"
   ]
  },
  {
   "cell_type": "code",
   "execution_count": null,
   "metadata": {},
   "outputs": [],
   "source": [
    "def bot_response_history ():\n",
    "    chat_completion_0 = client.chat.completions.create(\n",
    "    messages = [\n",
    "        {\n",
    "            \"role\": \"system\", \n",
    "            \"content\" : \"Ты мой Гейм Мастер в настольной ролевой игре под названием DnD. Ты должен предлагать мне варианты возможных действий в разных игровых ситуациях. При этом веди повествование как старый рассказчик из книг.\",\n",
    "        },\n",
    "        {\n",
    "            \"role\": \"user\",\n",
    "            \"content\": f'Меня зовут {user_name}, я {user_game_class}-{user_races}. Вот моя предистория: {user_history}',\n",
    "        }\n",
    "    ],\n",
    "    model=\"gpt-3.5-turbo\",\n",
    "\n",
    "    )\n",
    "    print(chat_completion_0)\n",
    "    chat_response_0 = chat_completion_0.choices[0].message.content\n",
    "    return(chat_response_0)"
   ]
  },
  {
   "cell_type": "code",
   "execution_count": null,
   "metadata": {},
   "outputs": [],
   "source": [
    "chat_response_1 = \"\"\n",
    "while True:\n",
    "    user_massage = (input(f'\\n{user_name}:'))\n",
    "    print(f'\\n{user_name}: {user_massage}')\n",
    "    chat_completion_1 = client.chat.completions.create(\n",
    "    messages = [\n",
    "        {\n",
    "            \"role\": \"system\", \n",
    "            \"content\" : \"Ты мой Гейм Мастер в настольной ролевой игре под названием DnD. Используй систему DnD для проверок характеристик и навыков игрока где он будет бросать кубик 1к20, если выпало число меньше 10 происходит что-то плохое, если больше 10 то что-то хорошее. При этом каждое значение броска кубика ты должен прописывать. При этом веди повествование как старый рассказчик из книг.\",\n",
    "        }, \n",
    "         {\n",
    "            \"role\": \"assistant\", \n",
    "            \"content\" : chat_response_0,\n",
    "        },\n",
    "        {\n",
    "            \"role\": \"assistant\", \n",
    "            \"content\" : chat_response_1,\n",
    "        },\n",
    "        {\n",
    "            \"role\": \"user\",\n",
    "            \"content\": user_massage,\n",
    "        }\n",
    "    ],\n",
    "    model=\"gpt-3.5-turbo\",\n",
    "\n",
    ")\n",
    "    chat_response_1 = chat_completion_1.choices[0].message.content\n",
    "    print(f'\\n Dungeon Master: {chat_response_1}')"
   ]
  }
 ],
 "metadata": {
  "kernelspec": {
   "display_name": "Python 3",
   "language": "python",
   "name": "python3"
  },
  "language_info": {
   "name": "python",
   "version": "3.11.1"
  }
 },
 "nbformat": 4,
 "nbformat_minor": 2
}
